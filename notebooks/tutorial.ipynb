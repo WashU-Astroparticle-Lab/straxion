{
 "cells": [
  {
   "cell_type": "markdown",
   "id": "eb1f8d3c",
   "metadata": {},
   "source": [
    "This tutorial breaks down the processing pipeline from raw data up to hits identification, in the `qualiphide_thz_offline` context and algorithms (plugins) of `straxion v0.1.1`.\n",
    "\n",
    "Lanqing Yuan, Sep 22, 2025."
   ]
  },
  {
   "cell_type": "markdown",
   "id": "844a0a88",
   "metadata": {
    "vscode": {
     "languageId": "plaintext"
    }
   },
   "source": [
    "# Pre-knowledge"
   ]
  },
  {
   "cell_type": "code",
   "execution_count": null,
   "id": "71d6f7a3",
   "metadata": {},
   "outputs": [],
   "source": [
    "import straxion\n",
    "import matplotlib.pyplot as plt\n",
    "import numpy as np\n",
    "import pandas as pd\n",
    "\n",
    "# Set options to display all rows and columns\n",
    "pd.set_option(\"display.max_rows\", None)\n",
    "pd.set_option(\"display.max_columns\", None)\n",
    "pd.set_option(\"display.max_colwidth\", None)  # To prevent truncation of long cell contents\n",
    "\n",
    "\n",
    "# Apply the plotting style. You can also comment it out to use the default style.\n",
    "plt.style.use(\"../.customized_mplstyle\")\n",
    "straxion.register_xenon_colors()"
   ]
  },
  {
   "cell_type": "markdown",
   "id": "4ce85bf6",
   "metadata": {},
   "source": [
    "In this tutorial, we assume that you already have access to the resonator fine scan as well as time stream data prepared in a format as follow. The scope of these data might only make sesne to QUALIPHIDE collaboration for now, and they are not made public."
   ]
  },
  {
   "cell_type": "code",
   "execution_count": null,
   "id": "849bdf82",
   "metadata": {},
   "outputs": [],
   "source": [
    "!ls /Users/lanqingyuan/Desktop/QUALIPHIDE_Science_Data/"
   ]
  },
  {
   "cell_type": "markdown",
   "id": "c946d6b6",
   "metadata": {},
   "source": [
    "To load data, we will need to define a `strax.Context` object, in which all the detector-specific processing-related information is defined."
   ]
  },
  {
   "cell_type": "code",
   "execution_count": null,
   "id": "65793cfa",
   "metadata": {},
   "outputs": [],
   "source": [
    "st = straxion.qualiphide_thz_offline()  # Used for offline analysis\n",
    "\n",
    "run = 1756824965\n",
    "DAQ_INPUT_DIR = f\"/Users/lanqingyuan/Desktop/QUALIPHIDE_Science_Data/ts_38kHz-{run}.npy\"\n",
    "IQ_FINESCAN_DIR = \"/Users/lanqingyuan/Desktop/QUALIPHIDE_Science_Data/\"\n",
    "IQ_WIDESCAN_DIR = \"/Users/lanqingyuan/Desktop/QUALIPHIDE_Science_Data/\"\n",
    "IQ_FINESCAN_FILENAME = \"iq_fine_z_2dB_below_pcrit-1756824887.npy\"\n",
    "IQ_WIDESCAN_FILENAME = \"iq_wide_z_2dB_below_pcrit-1756824887.npy\"\n",
    "RESONANT_FREQUENCY_DIR = \"/Users/lanqingyuan/Desktop/QUALIPHIDE_Science_Data/\"\n",
    "RESONANT_FREQUENCY_FILENAME = \"fres_2dB-1756824887.npy\"\n",
    "run = str(run)\n",
    "\n",
    "configs = dict(\n",
    "    daq_input_dir=DAQ_INPUT_DIR,\n",
    "    iq_finescan_dir=IQ_FINESCAN_DIR,\n",
    "    iq_finescan_filename=IQ_FINESCAN_FILENAME,\n",
    "    iq_widescan_dir=IQ_WIDESCAN_DIR,\n",
    "    iq_widescan_filename=IQ_WIDESCAN_FILENAME,\n",
    "    resonant_frequency_dir=RESONANT_FREQUENCY_DIR,\n",
    "    resonant_frequency_filename=RESONANT_FREQUENCY_FILENAME,\n",
    ")\n",
    "st.set_config(configs)"
   ]
  },
  {
   "cell_type": "markdown",
   "id": "3c2eaae8",
   "metadata": {},
   "source": [
    "For example, all the technical configuration regarding computation can be found already stored in the context. It is beyond regular users to understand what they are exactly though, for which avid users want to consult the strax documentation."
   ]
  },
  {
   "cell_type": "code",
   "execution_count": null,
   "id": "8ddf8121",
   "metadata": {},
   "outputs": [],
   "source": [
    "st.show_config()"
   ]
  },
  {
   "cell_type": "markdown",
   "id": "6ddeaa25",
   "metadata": {},
   "source": [
    "The processing algorithms are broken down into significant steps called plugins, inserted into the context. Below are the implemented plugins so far in straxion `v0.1.1`."
   ]
  },
  {
   "cell_type": "code",
   "execution_count": null,
   "id": "9a8c5118",
   "metadata": {},
   "outputs": [],
   "source": [
    "st._plugin_class_registry"
   ]
  },
  {
   "cell_type": "markdown",
   "id": "5ff7b1e8",
   "metadata": {},
   "source": [
    "In the following of this tutorial, we will dive into these plugins in order of dependency."
   ]
  },
  {
   "cell_type": "markdown",
   "id": "0b448585",
   "metadata": {},
   "source": [
    "# Plugins"
   ]
  },
  {
   "cell_type": "markdown",
   "id": "9ac77c85",
   "metadata": {},
   "source": [
    "## `raw_records`"
   ]
  },
  {
   "cell_type": "code",
   "execution_count": null,
   "id": "87daaab1",
   "metadata": {},
   "outputs": [],
   "source": [
    "?straxion.QUALIPHIDETHzReader"
   ]
  },
  {
   "cell_type": "markdown",
   "id": "b51ff33a",
   "metadata": {},
   "source": [
    "The following command loads the raw_records data into memory. Note that, to save disk space, `raw_records` is not saved by default. You have to specify it to save it."
   ]
  },
  {
   "cell_type": "code",
   "execution_count": null,
   "id": "3651f9e7",
   "metadata": {},
   "outputs": [],
   "source": [
    "raw_records = st.get_array(run, \"raw_records\")\n",
    "\n",
    "# If you want to save it, you can do so by:\n",
    "# raw_records = st.get_array(run, \"raw_records\", save=(\"raw_records\"))"
   ]
  },
  {
   "cell_type": "markdown",
   "id": "1697e6d5",
   "metadata": {},
   "source": [
    "All the data we computed are saved in the output folder defined by the context:"
   ]
  },
  {
   "cell_type": "code",
   "execution_count": null,
   "id": "327a020f",
   "metadata": {},
   "outputs": [],
   "source": [
    "st.storage"
   ]
  },
  {
   "cell_type": "markdown",
   "id": "6c43fcf3",
   "metadata": {},
   "source": [
    "You can see that the data are named by `<run_id>-<data_type>-<lineage_hash>`, where the hash is uniquely determined by the tracked lineage of configuration. The motivation for this design is that we will not run into problems loading data computed by different configuration (For example, you might have changed a threshold value somewhere and forgot. This will not hurt you in straxion).\n"
   ]
  },
  {
   "cell_type": "markdown",
   "id": "c1fc0504",
   "metadata": {},
   "source": [
    "As an example, here are the tracked lineage for raw_records. Higher level plugins might have much more complicated lineage."
   ]
  },
  {
   "cell_type": "code",
   "execution_count": null,
   "id": "8d24f83c",
   "metadata": {},
   "outputs": [],
   "source": [
    "st.lineage(run, \"raw_records\")"
   ]
  },
  {
   "cell_type": "markdown",
   "id": "9b9b4c6d",
   "metadata": {},
   "source": [
    "It gives the hash."
   ]
  },
  {
   "cell_type": "code",
   "execution_count": null,
   "id": "5bd10abe",
   "metadata": {},
   "outputs": [],
   "source": [
    "st.key_for(run, \"raw_records\")"
   ]
  },
  {
   "cell_type": "markdown",
   "id": "cf7e58ad",
   "metadata": {},
   "source": [
    "Now let's see what do we have in raw_records:"
   ]
  },
  {
   "cell_type": "code",
   "execution_count": null,
   "id": "11621ece",
   "metadata": {},
   "outputs": [],
   "source": [
    "st.data_info(\"raw_records\")"
   ]
  },
  {
   "cell_type": "markdown",
   "id": "3a0fac46",
   "metadata": {},
   "source": [
    "Each element of the loaded array correspond to one channel. We will just inspect one for illustration."
   ]
  },
  {
   "cell_type": "code",
   "execution_count": null,
   "id": "ab7a10b6",
   "metadata": {},
   "outputs": [],
   "source": [
    "np.shape(raw_records)"
   ]
  },
  {
   "cell_type": "code",
   "execution_count": null,
   "id": "4ff3b2e2",
   "metadata": {},
   "outputs": [],
   "source": [
    "raw_records = raw_records[raw_records[\"channel\"] == 0]"
   ]
  },
  {
   "cell_type": "code",
   "execution_count": null,
   "id": "dc9b0fec",
   "metadata": {},
   "outputs": [],
   "source": [
    "plt.figure(figsize=(10, 5))\n",
    "\n",
    "plt.plot(\n",
    "    raw_records[0][\"time\"] + np.arange(raw_records[0][\"length\"]) * raw_records[0][\"dt\"],\n",
    "    raw_records[0][\"data_i\"],\n",
    "    label=\"I\",\n",
    ")\n",
    "plt.plot(\n",
    "    raw_records[0][\"time\"] + np.arange(raw_records[0][\"length\"]) * raw_records[0][\"dt\"],\n",
    "    raw_records[0][\"data_q\"],\n",
    "    label=\"Q\",\n",
    ")\n",
    "plt.xlabel(\"Time Since Unix Epoch [ns]\")\n",
    "plt.ylabel(\"IQ [A.U.]\")\n",
    "plt.legend(ncol=2, loc=\"upper right\")\n",
    "plt.show()"
   ]
  },
  {
   "cell_type": "markdown",
   "id": "390c4883",
   "metadata": {},
   "source": [
    "## `hits`, `hit_classification` and `noises`"
   ]
  },
  {
   "cell_type": "code",
   "execution_count": null,
   "id": "b8f3ef4b",
   "metadata": {},
   "outputs": [],
   "source": [
    "st.show_config(\"hits\")"
   ]
  },
  {
   "cell_type": "code",
   "execution_count": null,
   "id": "7a0a797d",
   "metadata": {},
   "outputs": [],
   "source": [
    "records = st.get_array(run, \"records\", save=(\"records\"))\n",
    "hits = st.get_array(run, (\"hits\", \"hit_classification\"))\n",
    "noises = st.get_array(run, (\"noises\"))"
   ]
  },
  {
   "cell_type": "code",
   "execution_count": null,
   "id": "dfcd42d0",
   "metadata": {},
   "outputs": [],
   "source": [
    "records0 = records[records[\"channel\"] == 0][0]\n",
    "hits0 = hits[hits[\"channel\"] == 0]\n",
    "noises0 = noises[noises[\"channel\"] == 0]"
   ]
  },
  {
   "cell_type": "code",
   "execution_count": null,
   "id": "a0f1816e",
   "metadata": {},
   "outputs": [],
   "source": [
    "%matplotlib widget\n",
    "\n",
    "times_start = records0[\"time\"]\n",
    "times_us = (records0[\"time\"] + np.arange(records0[\"length\"]) * records0[\"dt\"] - times_start) / 1e3\n",
    "\n",
    "plt.figure(figsize=(6, 3))\n",
    "plt.plot(\n",
    "    times_us,\n",
    "    records0[\"data_dx\"],\n",
    "    label=\"Raw\",\n",
    "    # color=\"black\",\n",
    "    alpha=0.5,\n",
    "    lw=1,\n",
    ")\n",
    "plt.plot(\n",
    "    times_us,\n",
    "    records0[\"data_dx_moving_average\"],\n",
    "    # color=\"tab:blue\",\n",
    "    lw=1,\n",
    "    label=\"Moving Averaged\",\n",
    ")\n",
    "plt.plot(\n",
    "    times_us,\n",
    "    records0[\"data_dx_convolved\"],\n",
    "    # color=\"tab:orange\",\n",
    "    lw=2,\n",
    "    label=\"Convolved with Pulse Kernel\",\n",
    ")\n",
    "\n",
    "for k, hit in enumerate(hits0):\n",
    "    hit_start_us = (hit[\"time\"] - times_start) / 1e3\n",
    "    hit_end_us = (hit[\"endtime\"] - times_start) / 1e3\n",
    "\n",
    "    if k == 0:\n",
    "        plt.axvspan(\n",
    "            hit_start_us, hit_end_us, alpha=0.2, color=\"xenon_red\", lw=0, label=\"Hit Window\"\n",
    "        )\n",
    "        plt.axvspan(\n",
    "            times_us[hit[\"amplitude_moving_average_max_record_i\"] - 5],\n",
    "            times_us[hit[\"amplitude_moving_average_max_record_i\"]],\n",
    "            color=\"xenon_blue\",\n",
    "            alpha=0.2,\n",
    "            lw=0,\n",
    "            label=\"Risetime Window\",\n",
    "        )\n",
    "    else:\n",
    "        plt.axvspan(hit_start_us, hit_end_us, alpha=0.2, color=\"xenon_red\", lw=0)\n",
    "        plt.axvspan(\n",
    "            times_us[hit[\"amplitude_moving_average_max_record_i\"] - 5],\n",
    "            times_us[hit[\"amplitude_moving_average_max_record_i\"]],\n",
    "            color=\"xenon_blue\",\n",
    "            alpha=0.2,\n",
    "            lw=0,\n",
    "        )\n",
    "    # plt.axvline(hit[\"amplitude_max_record_i\"] * records0[\"dt\"] / 1e3, color=\"xenon_red\")\n",
    "\n",
    "for k, noise in enumerate(noises0):\n",
    "    noise_start_us = (noise[\"time\"] - times_start) / 1e3\n",
    "    noise_end_us = (noise[\"endtime\"] - times_start) / 1e3\n",
    "    if k == 0:\n",
    "        plt.axvspan(\n",
    "            noise_start_us, noise_end_us, alpha=0.2, color=\"xenon_green\", lw=0, label=\"Noise Window\"\n",
    "        )\n",
    "    else:\n",
    "        plt.axvspan(noise_start_us, noise_end_us, alpha=0.2, color=\"xenon_green\", lw=0)\n",
    "\n",
    "plt.axhline(hit[\"hit_threshold\"], color=\"xenon_light_blue\", ls=\":\")\n",
    "plt.legend(ncol=2, loc=\"best\")\n",
    "plt.xlabel(\"Time Since Run Start [us]\")\n",
    "plt.ylabel(\"dx\")\n",
    "plt.show()"
   ]
  },
  {
   "cell_type": "code",
   "execution_count": null,
   "id": "aa923698",
   "metadata": {},
   "outputs": [],
   "source": [
    "%matplotlib inline\n",
    "\n",
    "\n",
    "def dx_to_um(ht):\n",
    "    return 3e14 / ((ht) / (1.5e-6) * 12e12)\n",
    "\n",
    "\n",
    "def dx_to_THz(ht):\n",
    "    return (ht) / (1.5e-6) * 12\n",
    "\n",
    "\n",
    "plt.scatter(\n",
    "    dx_to_um(hits[\"amplitude_moving_average\"]),\n",
    "    hits[\"rise_edge_slope\"],\n",
    "    label=\"Without Spike Coincidence\",\n",
    "    s=1,\n",
    ")\n",
    "plt.scatter(\n",
    "    dx_to_um(hits[hits[\"is_coincident_with_spikes\"]][\"amplitude_moving_average\"]),\n",
    "    hits[hits[\"is_coincident_with_spikes\"]][\"rise_edge_slope\"],\n",
    "    label=\"With Spike Coincidence (0.13 ms)\",\n",
    "    s=1,\n",
    ")\n",
    "plt.xlabel(r\"$\\lambda$ by Moving Averaged Amplitude [$\\mu$m]\")\n",
    "plt.ylabel(r\"Rise Edge Slope [dx/Second]\")\n",
    "plt.legend(loc=\"best\", fontsize=6, bbox_to_anchor=(1.0, 1.1), ncol=2)\n",
    "plt.ylim(\n",
    "    0,\n",
    ")\n",
    "plt.show()"
   ]
  },
  {
   "cell_type": "code",
   "execution_count": null,
   "id": "5e152800",
   "metadata": {},
   "outputs": [],
   "source": [
    "photon_candidates = hits[hits[\"is_photon_candidate\"]]\n",
    "\n",
    "print(\"Total exposure: 50 seconds\")\n",
    "print(\"Total number of photon candidates: \", len(photon_candidates))\n",
    "print(\"Total number of all hits: \", len(hits))\n",
    "print(\n",
    "    f\"A spike tight coincidence of 0.131 ms is applied to the hits, which kills about {(len(hits)-len(photon_candidates))/len(hits)*100:.2f}% of the hits.\"\n",
    ")"
   ]
  },
  {
   "cell_type": "code",
   "execution_count": null,
   "id": "fe0b83e5",
   "metadata": {},
   "outputs": [],
   "source": [
    "%matplotlib inline\n",
    "plt.hist(\n",
    "    dx_to_um(hits[\"amplitude\"]),\n",
    "    bins=np.linspace(0, 150, 70),\n",
    "    histtype=\"step\",\n",
    "    label=\">0.25 ms Width\",\n",
    ")\n",
    "plt.hist(\n",
    "    dx_to_um(photon_candidates[\"amplitude\"]),\n",
    "    bins=np.linspace(0, 150, 70),\n",
    "    histtype=\"step\",\n",
    "    label=\"After Spike Coincidence (0.13 ms) & >0.25 ms Width\",\n",
    ")\n",
    "plt.xlabel(r\"Wavelength by Raw Amplitude [$\\mu$m]\")\n",
    "plt.legend(loc=\"best\", fontsize=6, bbox_to_anchor=(0.95, 1.15))\n",
    "plt.ylabel(\"Counts\")\n",
    "plt.show()"
   ]
  },
  {
   "cell_type": "code",
   "execution_count": null,
   "id": "8f5ee328",
   "metadata": {},
   "outputs": [],
   "source": []
  }
 ],
 "metadata": {
  "kernelspec": {
   "display_name": "straxion",
   "language": "python",
   "name": "python3"
  },
  "language_info": {
   "codemirror_mode": {
    "name": "ipython",
    "version": 3
   },
   "file_extension": ".py",
   "mimetype": "text/x-python",
   "name": "python",
   "nbconvert_exporter": "python",
   "pygments_lexer": "ipython3",
   "version": "3.11.13"
  }
 },
 "nbformat": 4,
 "nbformat_minor": 5
}
