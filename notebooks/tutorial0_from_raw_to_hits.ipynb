{
 "cells": [
  {
   "cell_type": "markdown",
   "id": "022bc782",
   "metadata": {},
   "source": [
    "This tutorial breaks down the processing pipeline from raw data up to hits identification, in the `qualiphide` context and algorithms (plugins) of `straxion v0.0.0` (which is mostly a translation and refactoring from [the `Matlab` processor](https://github.com/FaroutYLq/axioph/tree/main/QUALIPHIDE/old_matlab)).\n",
    "\n",
    "Lanqing, August 05, 2025"
   ]
  },
  {
   "cell_type": "markdown",
   "id": "f500749c",
   "metadata": {
    "vscode": {
     "languageId": "plaintext"
    }
   },
   "source": [
    "# Pre-knowledge"
   ]
  },
  {
   "cell_type": "markdown",
   "id": "7c8c6ce7",
   "metadata": {},
   "source": [
    "Please make sure you have already followed the instructions in the top-level `README.md` to install `straxion`."
   ]
  },
  {
   "cell_type": "code",
   "execution_count": null,
   "id": "e8f3a074",
   "metadata": {},
   "outputs": [],
   "source": [
    "import straxion\n",
    "import matplotlib.pyplot as plt\n",
    "import numpy as np\n",
    "\n",
    "# Apply the plotting style. You can also comment it out to use the default style.\n",
    "plt.style.use(\"../.customized_mplstyle\")"
   ]
  },
  {
   "cell_type": "markdown",
   "id": "e1a3446e",
   "metadata": {},
   "source": [
    "In this tutorial, we assume that you already have access to the resonator fine scan as well as time stream data prepared in a format as follow. The scope of these data might only make sesne to QUALIPHIDE collaboration for now, and they are not made public."
   ]
  },
  {
   "cell_type": "code",
   "execution_count": null,
   "id": "93882cf3",
   "metadata": {},
   "outputs": [],
   "source": [
    "!tree ../.example_data/"
   ]
  },
  {
   "cell_type": "markdown",
   "id": "86e36c70",
   "metadata": {},
   "source": [
    "To load data, we will need to define a `strax.Context` object, in which all the detector-specific processing-related information is defined."
   ]
  },
  {
   "cell_type": "code",
   "execution_count": null,
   "id": "e8d9bb3f",
   "metadata": {},
   "outputs": [],
   "source": [
    "# Define the context.\n",
    "st = straxion.qualiphide()\n",
    "\n",
    "# Minimally configure the context.\n",
    "# Other unmentioned options are set to default values inherited from the Matlab codes.\n",
    "st.set_config(\n",
    "    dict(\n",
    "        daq_input_dir=\"../.example_data/timeS429\",  # Where to find raw data.\n",
    "        iq_finescan_dir=\"../.example_data/finescan_iq428\",  # Where to find IQ fine-scan data.\n",
    "    )\n",
    ")\n",
    "\n",
    "# Load the raw records.\n",
    "raw_records = st.get_array(run_id=\"timeS429\", targets=\"raw_records\")"
   ]
  },
  {
   "cell_type": "markdown",
   "id": "b6166fd2",
   "metadata": {},
   "source": [
    "For example, all the technical configuration regarding computation can be found already stored in the _context_. It is beyond regular users to understand what they are exactly though, for which avid users want to consult the [`strax` documentation](https://strax.readthedocs.io/en/latest/):"
   ]
  },
  {
   "cell_type": "code",
   "execution_count": null,
   "id": "dc44c41f",
   "metadata": {},
   "outputs": [],
   "source": [
    "st.show_config()"
   ]
  },
  {
   "cell_type": "markdown",
   "id": "af4bd203",
   "metadata": {},
   "source": [
    "The processing algorithms are broken down into significant steps called _plugins_, inserted into the _context_. Below are the implemented _plugins_ so far in `straxion v0.0.0`."
   ]
  },
  {
   "cell_type": "code",
   "execution_count": null,
   "id": "df45234d",
   "metadata": {},
   "outputs": [],
   "source": [
    "st._plugin_class_registry"
   ]
  },
  {
   "cell_type": "markdown",
   "id": "d296be6f",
   "metadata": {},
   "source": [
    "In the following of this tutorial, we will dive into these plugins in order of dependency. "
   ]
  },
  {
   "cell_type": "markdown",
   "id": "9cf26824",
   "metadata": {},
   "source": [
    "# Plugins"
   ]
  },
  {
   "cell_type": "markdown",
   "id": "8fb5dbf7",
   "metadata": {},
   "source": [
    "## `raw_records`"
   ]
  },
  {
   "cell_type": "markdown",
   "id": "78d62b56",
   "metadata": {},
   "source": [
    "This is the most fundamental step in processing: Read the raw data into time stream of in-phase and quadrature."
   ]
  },
  {
   "cell_type": "code",
   "execution_count": null,
   "id": "ac5309f6",
   "metadata": {},
   "outputs": [],
   "source": [
    "?straxion.DAQReader"
   ]
  },
  {
   "cell_type": "markdown",
   "id": "4c989c92",
   "metadata": {},
   "source": [
    "The following command loads the `raw_records` data into memory:"
   ]
  },
  {
   "cell_type": "code",
   "execution_count": null,
   "id": "cb35b422",
   "metadata": {},
   "outputs": [],
   "source": [
    "raw_records = st.get_array(run_id=\"timeS429\", targets=\"raw_records\")"
   ]
  },
  {
   "cell_type": "markdown",
   "id": "4e599425",
   "metadata": {},
   "source": [
    "All the data we computed are saved in the output folder defined by the context:"
   ]
  },
  {
   "cell_type": "code",
   "execution_count": null,
   "id": "a1c0f1f4",
   "metadata": {},
   "outputs": [],
   "source": [
    "st.storage"
   ]
  },
  {
   "cell_type": "code",
   "execution_count": null,
   "id": "f7d1776f",
   "metadata": {},
   "outputs": [],
   "source": [
    "!tree ./strax_data"
   ]
  },
  {
   "cell_type": "markdown",
   "id": "86f5cbb8",
   "metadata": {},
   "source": [
    "You can see that the data are named by `<run_id>-<data_type>-<lineage_hash>`, where the hash is uniquely determined by the tracked lineage of configuration. The motivation for this design is that we will not run into problems loading data computed by different configuration (For example, you might have changed a threshold value somewhere and forgot. This will not hurt you in `straxion`)."
   ]
  },
  {
   "cell_type": "markdown",
   "id": "364737c3",
   "metadata": {},
   "source": [
    "As an example, here are the tracked lineage for `raw_records`. Higher level plugins might have much more complicated lineage."
   ]
  },
  {
   "cell_type": "code",
   "execution_count": null,
   "id": "c2b48c8f",
   "metadata": {},
   "outputs": [],
   "source": [
    "st.lineage(\"timeS429\", \"raw_records\")"
   ]
  },
  {
   "cell_type": "markdown",
   "id": "d760dd5d",
   "metadata": {},
   "source": [
    "It gives the hash:"
   ]
  },
  {
   "cell_type": "code",
   "execution_count": null,
   "id": "5264ed7d",
   "metadata": {},
   "outputs": [],
   "source": [
    "st.key_for(\"timeS429\", \"raw_records\")"
   ]
  },
  {
   "cell_type": "markdown",
   "id": "07892e41",
   "metadata": {},
   "source": [
    "Now let's see what do we have in `raw_records`:"
   ]
  },
  {
   "cell_type": "code",
   "execution_count": null,
   "id": "3f8b573f",
   "metadata": {},
   "outputs": [],
   "source": [
    "st.data_info(\"raw_records\")"
   ]
  },
  {
   "cell_type": "markdown",
   "id": "61003c0a",
   "metadata": {},
   "source": [
    "Each element of the loaded array correspond to one channel. We will just inspect one for illustration."
   ]
  },
  {
   "cell_type": "code",
   "execution_count": null,
   "id": "31cc7c8e",
   "metadata": {},
   "outputs": [],
   "source": [
    "np.shape(raw_records)"
   ]
  },
  {
   "cell_type": "code",
   "execution_count": null,
   "id": "f799a90f",
   "metadata": {},
   "outputs": [],
   "source": [
    "raw_records = raw_records[raw_records[\"channel\"] == 0]"
   ]
  },
  {
   "cell_type": "markdown",
   "id": "938b62e2",
   "metadata": {},
   "source": [
    "Let's watch the I and Q waveforms before any processing."
   ]
  },
  {
   "cell_type": "code",
   "execution_count": null,
   "id": "16645f58",
   "metadata": {},
   "outputs": [],
   "source": [
    "plt.figure(figsize=(10, 5))\n",
    "\n",
    "plt.plot(\n",
    "    raw_records[0][\"time\"] + np.arange(raw_records[0][\"length\"]) * raw_records[0][\"dt\"],\n",
    "    raw_records[0][\"data_i\"],\n",
    "    label=\"I\",\n",
    ")\n",
    "plt.plot(\n",
    "    raw_records[0][\"time\"] + np.arange(raw_records[0][\"length\"]) * raw_records[0][\"dt\"],\n",
    "    raw_records[0][\"data_q\"],\n",
    "    label=\"Q\",\n",
    ")\n",
    "plt.xlabel(\"Time Since Unix Epoch [ns]\")\n",
    "plt.ylabel(\"IQ [A.U.]\")\n",
    "plt.legend(ncol=2, loc=\"upper right\")"
   ]
  },
  {
   "cell_type": "markdown",
   "id": "bcec9a52",
   "metadata": {},
   "source": [
    "## `records`"
   ]
  },
  {
   "cell_type": "markdown",
   "id": "a59dd464",
   "metadata": {},
   "source": [
    "Next, `records` processes these raw IQ data to extract phase information. You can find the important assumptions as well as the processing workflow below."
   ]
  },
  {
   "cell_type": "code",
   "execution_count": null,
   "id": "53fec566",
   "metadata": {},
   "outputs": [],
   "source": [
    "?straxion.PulseProcessing"
   ]
  },
  {
   "cell_type": "code",
   "execution_count": null,
   "id": "121ae273",
   "metadata": {},
   "outputs": [],
   "source": [
    "records = st.get_array(\n",
    "    run_id=\"timeS429\",\n",
    "    targets=\"records\",\n",
    ")[\n",
    "    0\n",
    "]  # Only read the first record, as the rest are the same."
   ]
  },
  {
   "cell_type": "markdown",
   "id": "6f4daf40",
   "metadata": {},
   "source": [
    "### Understand your configurations"
   ]
  },
  {
   "cell_type": "markdown",
   "id": "55fb37d4",
   "metadata": {},
   "source": [
    "More configurations are involved now, and these are mostly filtering-related parameters.\n"
   ]
  },
  {
   "cell_type": "code",
   "execution_count": null,
   "id": "5a58da72",
   "metadata": {},
   "outputs": [],
   "source": [
    "st.lineage(\"timeS429\", \"records\")"
   ]
  },
  {
   "cell_type": "markdown",
   "id": "06e97dab",
   "metadata": {},
   "source": [
    "To understand what these configuration options mean, you can always consult the helpers:"
   ]
  },
  {
   "cell_type": "code",
   "execution_count": null,
   "id": "2b6d83e4",
   "metadata": {},
   "outputs": [],
   "source": [
    "st.show_config(\"records\")"
   ]
  },
  {
   "cell_type": "markdown",
   "id": "6a6eb80c",
   "metadata": {},
   "source": [
    "Note that `records` is a pretty heavy datat type! You can check the size in memory by:"
   ]
  },
  {
   "cell_type": "code",
   "execution_count": null,
   "id": "3412ca4d",
   "metadata": {},
   "outputs": [],
   "source": [
    "st.size_mb(run_id=\"timeS429\", target=\"records\")"
   ]
  },
  {
   "cell_type": "markdown",
   "id": "82bd7512",
   "metadata": {},
   "source": [
    "### Algorithms"
   ]
  },
  {
   "cell_type": "code",
   "execution_count": null,
   "id": "6d03fbdb",
   "metadata": {},
   "outputs": [],
   "source": [
    "st.data_info(\"records\")"
   ]
  },
  {
   "cell_type": "markdown",
   "id": "2c47bf93",
   "metadata": {},
   "source": [
    "First we load from the fine scan, and perform a geometric circular fit to determine a \"baseline\" of phases."
   ]
  },
  {
   "cell_type": "code",
   "execution_count": null,
   "id": "c229317d",
   "metadata": {},
   "outputs": [],
   "source": [
    "from straxion.plugins.records import PulseProcessing\n",
    "\n",
    "finescan = PulseProcessing.load_finescan_files(\"../.example_data/finescan_iq428\")\n",
    "finescan_i = finescan[0][:, 1]\n",
    "finescan_q = finescan[0][:, 2]\n",
    "x_center, y_center, radius, residuals = PulseProcessing.circfit(finescan_i, finescan_q)"
   ]
  },
  {
   "cell_type": "code",
   "execution_count": null,
   "id": "3d347584",
   "metadata": {},
   "outputs": [],
   "source": [
    "plt.scatter(finescan_i, finescan_q, label=\"finescan_iq428\")\n",
    "# Create points for circle\n",
    "theta = np.linspace(0, 2 * np.pi, 100)\n",
    "circle_x = x_center + radius * np.cos(theta)\n",
    "circle_y = y_center + radius * np.sin(theta)\n",
    "plt.plot(circle_x, circle_y, alpha=0.5, label=\"Fitted circle\")\n",
    "plt.xlabel(\"I\")\n",
    "plt.ylabel(\"Q\")\n",
    "plt.scatter(\n",
    "    [np.mean(raw_records[0][\"data_i\"])], [np.mean(raw_records[0][\"data_q\"])], label=\"Mean\", s=100\n",
    ")\n",
    "\n",
    "plt.legend(loc=\"upper left\", bbox_to_anchor=(-0.1, 1.1), ncol=3)\n",
    "# plt.title(\"Check of the circle fit by iq428.txt\")\n",
    "plt.show()"
   ]
  },
  {
   "cell_type": "markdown",
   "id": "a05a6e4b",
   "metadata": {},
   "source": [
    "The next step is to convolve the pulses with a square wave (default width 5 samples) and a truncated EMG pulse kernel. Note that the convolved waveform will be slightly shifted in time."
   ]
  },
  {
   "cell_type": "code",
   "execution_count": null,
   "id": "6e81bff5",
   "metadata": {},
   "outputs": [],
   "source": [
    "emg_strax = PulseProcessing.pulse_kernel(\n",
    "    ns=512, fs=50_000, t0=200_000, tau=600_000, sigma=28_000, truncation_factor=10\n",
    ")\n",
    "\n",
    "plt.plot(emg_strax, label=\"Straxion default parameters\")\n",
    "plt.legend(loc=\"best\")\n",
    "plt.title(\"Truncated EMG Pulse Kernel\")\n",
    "plt.xlabel(\"Samples [20 us]\")"
   ]
  },
  {
   "cell_type": "markdown",
   "id": "bd866d27",
   "metadata": {},
   "source": [
    "Let's take a look at the pulses."
   ]
  },
  {
   "cell_type": "code",
   "execution_count": null,
   "id": "ff0e10b7",
   "metadata": {},
   "outputs": [],
   "source": [
    "slice_sample_length = 20_000\n",
    "total_sample_length = records[\"length\"]\n",
    "\n",
    "for i in range(1):\n",
    "    sample_range = (i * slice_sample_length, (i + 1) * slice_sample_length)\n",
    "\n",
    "    times_start = records[\"time\"]\n",
    "    times_us = (records[\"time\"] + np.arange(records[\"length\"]) * records[\"dt\"] - times_start) / 1e3\n",
    "    times_us = times_us[sample_range[0] : sample_range[1]]\n",
    "\n",
    "    plt.figure(figsize=(10, 5))\n",
    "    plt.plot(\n",
    "        times_us,\n",
    "        records[\"data_theta\"][sample_range[0] : sample_range[1]],\n",
    "        label=\"Flipped and Shifted\",\n",
    "        # color=\"black\",\n",
    "        alpha=0.5,\n",
    "        lw=1,\n",
    "    )\n",
    "    plt.plot(\n",
    "        times_us,\n",
    "        records[\"data_theta_moving_average\"][sample_range[0] : sample_range[1]],\n",
    "        label=\"Moving Averaged\",\n",
    "        # color=\"tab:blue\",\n",
    "        lw=2,\n",
    "    )\n",
    "    plt.plot(\n",
    "        times_us,\n",
    "        records[\"data_theta_convolved\"][sample_range[0] : sample_range[1]],\n",
    "        label=\"Convolved with Pulse Kernel\",\n",
    "        # color=\"tab:orange\",\n",
    "        lw=2,\n",
    "    )\n",
    "\n",
    "    plt.legend(loc=\"best\", ncol=3)\n",
    "    plt.xlabel(\"Time Since Run Start [us]\")\n",
    "    plt.ylabel(\"Theta [rad]\")\n",
    "    # plt.title(f\"Slice {i+1} of {int(total_sample_length / slice_sample_length)}\")\n",
    "    plt.title(\"Example Records of 0.4 seconds\")\n",
    "    plt.show()"
   ]
  },
  {
   "cell_type": "markdown",
   "id": "eb4935b6",
   "metadata": {},
   "source": [
    "## `hits` and `hit_classification`"
   ]
  },
  {
   "cell_type": "code",
   "execution_count": null,
   "id": "de38f0b2",
   "metadata": {},
   "outputs": [],
   "source": [
    "?straxion.Hits"
   ]
  },
  {
   "cell_type": "code",
   "execution_count": null,
   "id": "66885306",
   "metadata": {},
   "outputs": [],
   "source": [
    "hits = st.get_array(\"timeS429\", [\"hits\", \"hit_classification\"])\n",
    "hits = hits[hits[\"channel\"] == 0]"
   ]
  },
  {
   "cell_type": "code",
   "execution_count": null,
   "id": "f6b9a680",
   "metadata": {},
   "outputs": [],
   "source": [
    "st.lineage(\"timeS429\", \"hit_classification\")"
   ]
  },
  {
   "cell_type": "code",
   "execution_count": null,
   "id": "d49b4af3",
   "metadata": {},
   "outputs": [],
   "source": [
    "st.data_info(\"hits\")"
   ]
  },
  {
   "cell_type": "code",
   "execution_count": null,
   "id": "fea4efa4",
   "metadata": {},
   "outputs": [],
   "source": [
    "st.data_info(\"hit_classification\")"
   ]
  },
  {
   "cell_type": "markdown",
   "id": "79a9a5fb",
   "metadata": {},
   "source": [
    "Below we show one example how hits are found."
   ]
  },
  {
   "cell_type": "code",
   "execution_count": null,
   "id": "56e6bc7e",
   "metadata": {},
   "outputs": [],
   "source": [
    "slice_sample_length = 20_000\n",
    "total_sample_length = records[\"length\"]\n",
    "\n",
    "convolved_std = np.std(records[\"data_theta_convolved\"])\n",
    "hit_id = 0\n",
    "\n",
    "# for i in range(5):\n",
    "for i in range(1):\n",
    "    sample_range = (i * slice_sample_length, (i + 1) * slice_sample_length)\n",
    "\n",
    "    times_start = records[\"time\"]\n",
    "    times_us = (records[\"time\"] + np.arange(records[\"length\"]) * records[\"dt\"] - times_start) / 1e3\n",
    "    times_us = times_us[sample_range[0] : sample_range[1]]\n",
    "\n",
    "    plt.figure(figsize=(10, 5))\n",
    "    plt.plot(\n",
    "        times_us,\n",
    "        records[\"data_theta\"][sample_range[0] : sample_range[1]],\n",
    "        label=\"Flipped and Shifted\",\n",
    "        # color=\"black\",\n",
    "        alpha=0.5,\n",
    "        lw=1,\n",
    "    )\n",
    "    plt.plot(\n",
    "        times_us,\n",
    "        records[\"data_theta_moving_average\"][sample_range[0] : sample_range[1]],\n",
    "        label=\"Moving Averaged\",\n",
    "        # color=\"tab:blue\",\n",
    "        lw=2,\n",
    "    )\n",
    "    plt.plot(\n",
    "        times_us,\n",
    "        records[\"data_theta_convolved\"][sample_range[0] : sample_range[1]],\n",
    "        label=\"Convolved with Pulse Kernel\",\n",
    "        # color=\"tab:orange\",\n",
    "        lw=2,\n",
    "    )\n",
    "\n",
    "    # Add hit time ranges\n",
    "    slice_hits = hits[\n",
    "        (hits[\"time\"] >= times_start + sample_range[0] * records[\"dt\"])\n",
    "        & (hits[\"time\"] < times_start + sample_range[1] * records[\"dt\"])\n",
    "    ]\n",
    "    for hit in slice_hits:\n",
    "        hit_start_us = (hit[\"time\"] - times_start) / 1e3\n",
    "        hit_end_us = (hit[\"endtime\"] - times_start) / 1e3\n",
    "        plt.axvspan(hit_start_us, hit_end_us, alpha=0.2, color=\"red\")\n",
    "        plt.axvline(hit[\"aligned_at_records_i\"] * records[\"dt\"] / 1e3, color=\"tab:red\")\n",
    "        plt.text(hit_start_us, hit[\"amplitude_ma_max\"], \"#\" + str(hit_id), color=\"tab:red\")\n",
    "        hit_id += 1\n",
    "\n",
    "    # Show threshold and baseline\n",
    "\n",
    "    plt.axhline(hits[i][\"hit_threshold\"], color=\"tab:red\", ls=\":\")\n",
    "    plt.axhspan(-convolved_std, convolved_std, color=\"tab:orange\", alpha=0.2, zorder=0)\n",
    "\n",
    "    plt.xlim(times_us[0], times_us[-1])\n",
    "\n",
    "    plt.legend()\n",
    "    plt.xlabel(\"Time Since Run Start [us]\")\n",
    "    plt.ylabel(\"Theta [rad]\")\n",
    "    plt.title(f\"Slice {i+1} of {int(total_sample_length / slice_sample_length)}\")\n",
    "    plt.show()"
   ]
  },
  {
   "cell_type": "code",
   "execution_count": null,
   "id": "8259995b",
   "metadata": {},
   "outputs": [],
   "source": [
    "for i in range(2):\n",
    "    plt.plot(hits[i][\"data_theta\"], label=\"Flipped and Shifted\", alpha=0.5, lw=1)\n",
    "    plt.plot(hits[i][\"data_theta_moving_average\"], label=\"Moving Averaged\", lw=2)\n",
    "    plt.plot(hits[i][\"data_theta_convolved\"], label=\"Convolved with Pulse Kernel\", lw=2)\n",
    "    plt.axhline(hits[i][\"hit_threshold\"], color=\"tab:red\", ls=\":\")\n",
    "    plt.axhline(0, color=\"black\", ls=\":\")\n",
    "    plt.axhline(hits[i][\"amplitude_ma_max\"], color=\"#4067b1\", ls=\"--\")\n",
    "    plt.axhline(hits[i][\"amplitude_convolved_max\"], color=\"#6ccef5\", ls=\"--\")\n",
    "    plt.axhline(hits[i][\"amplitude_convolved_max_ext\"], color=\"#6ccef5\", ls=\":\")\n",
    "    plt.axhline(hits[i][\"amplitude_ma_max_ext\"], color=\"#4067b1\", ls=\":\")\n",
    "\n",
    "    if hits[i][\"is_cr\"]:\n",
    "        type_str = \"Cosmic Ray\"\n",
    "    elif hits[i][\"is_symmetric_spike\"]:\n",
    "        type_str = \"Symmetric Spike\"\n",
    "    else:\n",
    "        type_str = \"Photon Candidate\"\n",
    "\n",
    "    plt.title(\"Hit #\" + str(i) + \" (\" + type_str + \")\")\n",
    "    plt.xlabel(\"Samples [20us]\")\n",
    "    plt.ylabel(\"Phase [rad]\")\n",
    "    plt.legend()\n",
    "    plt.show()"
   ]
  },
  {
   "cell_type": "markdown",
   "id": "3a8d3bf2",
   "metadata": {},
   "source": [
    "Let's read some waveforms for the hits we cut out."
   ]
  },
  {
   "cell_type": "code",
   "execution_count": null,
   "id": "7a8e83e7",
   "metadata": {},
   "outputs": [],
   "source": [
    "for i in np.where(hits[\"is_cr\"])[0][:2]:\n",
    "    plt.plot(hits[i][\"data_theta\"], label=\"Flipped and Shifted\", alpha=0.5, lw=1)\n",
    "    plt.plot(hits[i][\"data_theta_moving_average\"], label=\"Moving Averaged\", lw=2)\n",
    "    plt.plot(hits[i][\"data_theta_convolved\"], label=\"Convolved with Pulse Kernel\", lw=2)\n",
    "    plt.axhline(hits[i][\"hit_threshold\"], color=\"tab:red\", ls=\":\")\n",
    "    plt.axhline(0, color=\"black\", ls=\":\")\n",
    "    plt.axhline(hits[i][\"amplitude_ma_max\"], color=\"#4067b1\", ls=\"--\")\n",
    "    plt.axhline(hits[i][\"amplitude_convolved_max\"], color=\"#6ccef5\", ls=\"--\")\n",
    "    plt.axhline(hits[i][\"amplitude_convolved_max_ext\"], color=\"#6ccef5\", ls=\":\")\n",
    "    plt.axhline(hits[i][\"amplitude_ma_max_ext\"], color=\"#4067b1\", ls=\":\")\n",
    "\n",
    "    if hits[i][\"is_cr\"]:\n",
    "        type_str = \"Cosmic Ray\"\n",
    "    elif hits[i][\"is_symmetric_spike\"]:\n",
    "        type_str = \"Symmetric Spike\"\n",
    "    else:\n",
    "        type_str = \"Photon Candidate\"\n",
    "\n",
    "    plt.title(\"Example\" + \" \" + type_str)\n",
    "    plt.xlabel(\"Samples [20us]\")\n",
    "    plt.ylabel(\"Phase [rad]\")\n",
    "    plt.legend(loc=\"best\")\n",
    "    plt.show()"
   ]
  },
  {
   "cell_type": "code",
   "execution_count": null,
   "id": "c36c1fb0",
   "metadata": {},
   "outputs": [],
   "source": [
    "for i in np.where(hits[\"is_symmetric_spike\"])[0][:2]:\n",
    "    plt.plot(hits[i][\"data_theta\"], label=\"Flipped and Shifted\", alpha=0.5, lw=1)\n",
    "    plt.plot(hits[i][\"data_theta_moving_average\"], label=\"Moving Averaged\", lw=2)\n",
    "    plt.plot(hits[i][\"data_theta_convolved\"], label=\"Convolved with Pulse Kernel\", lw=2)\n",
    "    plt.axhline(hits[i][\"hit_threshold\"], color=\"tab:red\", ls=\":\")\n",
    "    plt.axhline(0, color=\"black\", ls=\":\")\n",
    "    plt.axhline(hits[i][\"amplitude_ma_max\"], color=\"#4067b1\", ls=\"--\")\n",
    "    plt.axhline(hits[i][\"amplitude_convolved_max\"], color=\"#6ccef5\", ls=\"--\")\n",
    "    plt.axhline(hits[i][\"amplitude_convolved_max_ext\"], color=\"#6ccef5\", ls=\":\")\n",
    "    plt.axhline(hits[i][\"amplitude_ma_max_ext\"], color=\"#4067b1\", ls=\":\")\n",
    "\n",
    "    if hits[i][\"is_cr\"]:\n",
    "        type_str = \"Cosmic Ray\"\n",
    "    elif hits[i][\"is_symmetric_spike\"]:\n",
    "        type_str = \"Symmetric Spike\"\n",
    "    else:\n",
    "        type_str = \"Photon Candidate\"\n",
    "\n",
    "    plt.title(\"Example\" + \" \" + type_str)\n",
    "    plt.xlabel(\"Samples [20us]\")\n",
    "    plt.ylabel(\"Phase [rad]\")\n",
    "    plt.legend(loc=\"best\")\n",
    "    plt.show()"
   ]
  },
  {
   "cell_type": "markdown",
   "id": "322626ff",
   "metadata": {},
   "source": [
    "Below we show some basic statistics."
   ]
  },
  {
   "cell_type": "code",
   "execution_count": null,
   "id": "52a735a3",
   "metadata": {},
   "outputs": [],
   "source": [
    "plt.hist(hits[\"width\"], bins=np.linspace(20, 300, 20), label=\"All Hits\")\n",
    "plt.hist(hits[hits[\"is_cr\"]][\"width\"], bins=np.linspace(20, 300, 20), label=\"CR Hits\")\n",
    "plt.hist(\n",
    "    hits[hits[\"is_symmetric_spike\"]][\"width\"],\n",
    "    bins=np.linspace(20, 300, 20),\n",
    "    label=\"Symmetric Spikes\",\n",
    ")\n",
    "plt.xlabel(\"Width [20us]\")\n",
    "plt.ylabel(\"Counts\")\n",
    "plt.legend(loc=\"best\")\n",
    "plt.yscale(\"log\")\n",
    "plt.show()"
   ]
  },
  {
   "cell_type": "code",
   "execution_count": null,
   "id": "234d3bbf",
   "metadata": {},
   "outputs": [],
   "source": [
    "plt.hist(hits[\"amplitude_convolved_max_ext\"], bins=np.linspace(0, 1.2, 40), label=\"All Hits\")\n",
    "plt.hist(\n",
    "    hits[hits[\"is_cr\"]][\"amplitude_convolved_max_ext\"],\n",
    "    bins=np.linspace(0, 1.2, 40),\n",
    "    label=\"CR Hits\",\n",
    ")\n",
    "plt.hist(\n",
    "    hits[hits[\"is_symmetric_spike\"]][\"amplitude_convolved_max_ext\"],\n",
    "    bins=np.linspace(0, 1.2, 40),\n",
    "    label=\"Symmetric Spikes\",\n",
    ")\n",
    "plt.xlabel(\"Convolved Amplitude (Extended) [20us]\")\n",
    "plt.ylabel(\"Counts\")\n",
    "plt.legend(loc=\"best\")\n",
    "plt.yscale(\"log\")\n",
    "plt.show()"
   ]
  },
  {
   "cell_type": "code",
   "execution_count": null,
   "id": "47c1f921",
   "metadata": {},
   "outputs": [],
   "source": [
    "plt.scatter(\n",
    "    hits[\"amplitude_convolved_max\"],\n",
    "    hits[\"amplitude_convolved_max_ext\"],\n",
    "    alpha=0.5,\n",
    "    label=\"All Hits\",\n",
    ")\n",
    "plt.scatter(\n",
    "    hits[\"amplitude_convolved_max\"][hits[\"is_cr\"]],\n",
    "    hits[\"amplitude_convolved_max_ext\"][hits[\"is_cr\"]],\n",
    "    label=\"CR Hits\",\n",
    "    s=10,\n",
    ")\n",
    "plt.scatter(\n",
    "    hits[\"amplitude_convolved_max\"][hits[\"is_symmetric_spike\"]],\n",
    "    hits[\"amplitude_convolved_max_ext\"][hits[\"is_symmetric_spike\"]],\n",
    "    label=\"Symmetric Spikes\",\n",
    "    s=10,\n",
    ")\n",
    "plt.xlabel(\"Convolved Amplitude [rad]\")\n",
    "plt.ylabel(\"Convolved Amplitude (Extended) [rad]\")\n",
    "plt.legend(loc=\"best\")\n",
    "plt.show()"
   ]
  },
  {
   "cell_type": "code",
   "execution_count": null,
   "id": "aa1ac13a",
   "metadata": {},
   "outputs": [],
   "source": [
    "plt.scatter(hits[\"amplitude_ma_max\"], hits[\"amplitude_ma_max_ext\"], alpha=0.5, label=\"All Hits\")\n",
    "plt.scatter(\n",
    "    hits[\"amplitude_ma_max\"][hits[\"is_cr\"]],\n",
    "    hits[\"amplitude_ma_max_ext\"][hits[\"is_cr\"]],\n",
    "    label=\"CR Hits\",\n",
    "    s=10,\n",
    ")\n",
    "plt.scatter(\n",
    "    hits[\"amplitude_ma_max\"][hits[\"is_symmetric_spike\"]],\n",
    "    hits[\"amplitude_ma_max_ext\"][hits[\"is_symmetric_spike\"]],\n",
    "    label=\"Symmetric Spikes\",\n",
    "    s=10,\n",
    ")\n",
    "plt.xlabel(\"M.A. Amplitude [rad]\")\n",
    "plt.ylabel(\"M.A. Amplitude (Extended) [rad]\")\n",
    "plt.legend(loc=\"best\")\n",
    "plt.show()"
   ]
  },
  {
   "cell_type": "markdown",
   "id": "fbd1e428",
   "metadata": {},
   "source": []
  }
 ],
 "metadata": {
  "kernelspec": {
   "display_name": "straxion",
   "language": "python",
   "name": "python3"
  },
  "language_info": {
   "codemirror_mode": {
    "name": "ipython",
    "version": 3
   },
   "file_extension": ".py",
   "mimetype": "text/x-python",
   "name": "python",
   "nbconvert_exporter": "python",
   "pygments_lexer": "ipython3",
   "version": "3.11.13"
  }
 },
 "nbformat": 4,
 "nbformat_minor": 5
}
